{
  "nbformat": 4,
  "nbformat_minor": 0,
  "metadata": {
    "colab": {
      "provenance": [],
      "include_colab_link": true
    },
    "kernelspec": {
      "name": "python3",
      "display_name": "Python 3"
    },
    "language_info": {
      "name": "python"
    }
  },
  "cells": [
    {
      "cell_type": "markdown",
      "metadata": {
        "id": "view-in-github",
        "colab_type": "text"
      },
      "source": [
        "<a href=\"https://colab.research.google.com/github/jepangau02/DSS/blob/main/FINALDSS.ipynb\" target=\"_parent\"><img src=\"https://colab.research.google.com/assets/colab-badge.svg\" alt=\"Open In Colab\"/></a>"
      ]
    },
    {
      "cell_type": "code",
      "source": [
        "from google.colab import drive\n",
        "drive.mount('/content/drive')"
      ],
      "metadata": {
        "id": "BKLYGNjfU9-X",
        "outputId": "4f1e405e-ed30-44ae-c9f6-186e079c7687",
        "colab": {
          "base_uri": "https://localhost:8080/"
        }
      },
      "execution_count": 1,
      "outputs": [
        {
          "output_type": "stream",
          "name": "stdout",
          "text": [
            "Mounted at /content/drive\n"
          ]
        }
      ]
    },
    {
      "cell_type": "code",
      "execution_count": null,
      "metadata": {
        "colab": {
          "base_uri": "https://localhost:8080/"
        },
        "id": "H3IFcI6gJA5z",
        "outputId": "5e89c28e-d0a4-4dae-8814-d8420d9dff4a"
      },
      "outputs": [
        {
          "output_type": "stream",
          "name": "stdout",
          "text": [
            "   age  job  marital  education  balance  housing  loan  campaign  previous  \\\n",
            "0   30   10        1          0     1787        0     0         1         0   \n",
            "1   33    7        1          1     4789        1     1         1         4   \n",
            "2   35    4        2          2     1350        1     0         1         1   \n",
            "3   30    4        1          2     1476        1     1         4         0   \n",
            "4   59    1        1          1        0        1     0         1         0   \n",
            "\n",
            "   poutcome  y  \n",
            "0         3  0  \n",
            "1         0  0  \n",
            "2         0  0  \n",
            "3         3  0  \n",
            "4         3  0  \n"
          ]
        }
      ],
      "source": [
        "# import necessary libraries\n",
        "import pandas as pd\n",
        "from sklearn.preprocessing import LabelEncoder\n",
        "from sklearn.tree import DecisionTreeClassifier, export_graphviz\n",
        "from sklearn.model_selection import train_test_split\n",
        "from sklearn.metrics import accuracy_score\n",
        "from sklearn.preprocessing import OneHotEncoder\n",
        "import graphviz\n",
        "\n",
        "# load data from CSV file\n",
        "data = pd.read_csv('/content/drive/MyDrive/DSS/bank/bank.csv', sep=';')\n",
        "df = data\n",
        "# Drop columns that are not needed\n",
        "df = df.drop(['default', 'contact', 'day', 'month', 'duration', 'pdays'], axis=1)\n",
        "\n",
        "# Convert categorical data to numerical\n",
        "labelencoder = LabelEncoder()\n",
        "df['job'] = labelencoder.fit_transform(df['job'])\n",
        "df['marital'] = labelencoder.fit_transform(df['marital'])\n",
        "df['education'] = labelencoder.fit_transform(df['education'])\n",
        "df['housing'] = labelencoder.fit_transform(df['housing'])\n",
        "df['loan'] = labelencoder.fit_transform(df['loan'])\n",
        "df['poutcome'] = labelencoder.fit_transform(df['poutcome'])\n",
        "df['y'] = labelencoder.fit_transform(df['y'])\n",
        "\n",
        "print(df.head())"
      ]
    },
    {
      "cell_type": "code",
      "source": [
        "df.to_csv('/content/drive/MyDrive/DSS/bank_transformed.csv', index=False)"
      ],
      "metadata": {
        "id": "denzbNGfP4ut"
      },
      "execution_count": null,
      "outputs": []
    }
  ]
}